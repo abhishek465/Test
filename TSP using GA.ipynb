{
 "cells": [
  {
   "cell_type": "code",
   "execution_count": 9,
   "metadata": {},
   "outputs": [],
   "source": [
    "import math\n",
    "import random\n",
    "import numpy as np"
   ]
  },
  {
   "cell_type": "code",
   "execution_count": 10,
   "metadata": {},
   "outputs": [],
   "source": [
    "#number of cities\n",
    "num_city=5"
   ]
  },
  {
   "cell_type": "code",
   "execution_count": 12,
   "metadata": {},
   "outputs": [
    {
     "data": {
      "text/plain": [
       "['0', '1', '2', '3', '4']"
      ]
     },
     "execution_count": 12,
     "metadata": {},
     "output_type": "execute_result"
    }
   ],
   "source": [
    "#list of cities\n",
    "cities=[str(i) for i in range(0,num_city)]\n",
    "cities"
   ]
  },
  {
   "cell_type": "code",
   "execution_count": 13,
   "metadata": {},
   "outputs": [
    {
     "data": {
      "text/plain": [
       "['0', '1', '2', '3', '4']"
      ]
     },
     "execution_count": 13,
     "metadata": {},
     "output_type": "execute_result"
    }
   ],
   "source": [
    "temp=cities.copy()\n",
    "cities#,temp"
   ]
  },
  {
   "cell_type": "code",
   "execution_count": 14,
   "metadata": {},
   "outputs": [
    {
     "data": {
      "text/plain": [
       "[(14, 18), (12, 9), (18, 3), (5, 19), (3, 10)]"
      ]
     },
     "execution_count": 14,
     "metadata": {},
     "output_type": "execute_result"
    }
   ],
   "source": [
    "#generating random co-ordinate\n",
    "#for simplicity,i just used integer between 1 to 5\n",
    "loc=[(np.random.randint(1,20),np.random.randint(1,20)) for i in range(1,num_city+1)]\n",
    "loc"
   ]
  },
  {
   "cell_type": "code",
   "execution_count": 15,
   "metadata": {},
   "outputs": [],
   "source": [
    "def population():\n",
    "    #finding all possible route of cities \n",
    "    all_routes=[]\n",
    "    for i in range(1,math.factorial(num_city)):\n",
    "        random.shuffle(temp)\n",
    "        if temp not in all_routes:\n",
    "            all_routes.append(list(temp))\n",
    "    all_routes.sort()\n",
    "    return all_routes"
   ]
  },
  {
   "cell_type": "code",
   "execution_count": 16,
   "metadata": {},
   "outputs": [
    {
     "data": {
      "text/plain": [
       "[['0', '1', '2', '3', '4'],\n",
       " ['0', '1', '2', '4', '3'],\n",
       " ['0', '1', '3', '2', '4'],\n",
       " ['0', '1', '4', '2', '3'],\n",
       " ['0', '1', '4', '3', '2'],\n",
       " ['0', '2', '1', '3', '4'],\n",
       " ['0', '2', '3', '1', '4'],\n",
       " ['0', '2', '3', '4', '1'],\n",
       " ['0', '3', '4', '1', '2'],\n",
       " ['0', '3', '4', '2', '1'],\n",
       " ['0', '4', '1', '2', '3'],\n",
       " ['0', '4', '1', '3', '2'],\n",
       " ['0', '4', '2', '1', '3'],\n",
       " ['0', '4', '3', '1', '2'],\n",
       " ['0', '4', '3', '2', '1'],\n",
       " ['1', '0', '2', '4', '3'],\n",
       " ['1', '0', '3', '2', '4'],\n",
       " ['1', '0', '3', '4', '2'],\n",
       " ['1', '0', '4', '2', '3'],\n",
       " ['1', '2', '0', '3', '4'],\n",
       " ['1', '2', '3', '0', '4'],\n",
       " ['1', '2', '3', '4', '0'],\n",
       " ['1', '2', '4', '3', '0'],\n",
       " ['1', '3', '0', '2', '4'],\n",
       " ['1', '3', '4', '0', '2'],\n",
       " ['1', '4', '0', '2', '3'],\n",
       " ['1', '4', '0', '3', '2'],\n",
       " ['1', '4', '2', '3', '0'],\n",
       " ['1', '4', '3', '0', '2'],\n",
       " ['1', '4', '3', '2', '0'],\n",
       " ['2', '0', '1', '4', '3'],\n",
       " ['2', '0', '3', '1', '4'],\n",
       " ['2', '0', '4', '3', '1'],\n",
       " ['2', '1', '0', '3', '4'],\n",
       " ['2', '1', '3', '0', '4'],\n",
       " ['2', '1', '4', '0', '3'],\n",
       " ['2', '3', '0', '4', '1'],\n",
       " ['2', '3', '1', '4', '0'],\n",
       " ['2', '4', '1', '0', '3'],\n",
       " ['2', '4', '1', '3', '0'],\n",
       " ['2', '4', '3', '0', '1'],\n",
       " ['2', '4', '3', '1', '0'],\n",
       " ['3', '0', '1', '2', '4'],\n",
       " ['3', '0', '1', '4', '2'],\n",
       " ['3', '0', '2', '4', '1'],\n",
       " ['3', '0', '4', '2', '1'],\n",
       " ['3', '1', '0', '4', '2'],\n",
       " ['3', '1', '2', '0', '4'],\n",
       " ['3', '1', '2', '4', '0'],\n",
       " ['3', '1', '4', '0', '2'],\n",
       " ['3', '1', '4', '2', '0'],\n",
       " ['3', '2', '0', '1', '4'],\n",
       " ['3', '2', '0', '4', '1'],\n",
       " ['3', '2', '1', '0', '4'],\n",
       " ['3', '2', '4', '1', '0'],\n",
       " ['3', '4', '0', '2', '1'],\n",
       " ['3', '4', '1', '0', '2'],\n",
       " ['3', '4', '1', '2', '0'],\n",
       " ['3', '4', '2', '0', '1'],\n",
       " ['4', '0', '1', '2', '3'],\n",
       " ['4', '0', '2', '3', '1'],\n",
       " ['4', '0', '3', '1', '2'],\n",
       " ['4', '0', '3', '2', '1'],\n",
       " ['4', '1', '0', '3', '2'],\n",
       " ['4', '1', '2', '0', '3'],\n",
       " ['4', '1', '2', '3', '0'],\n",
       " ['4', '1', '3', '0', '2'],\n",
       " ['4', '2', '0', '3', '1'],\n",
       " ['4', '2', '1', '0', '3'],\n",
       " ['4', '2', '1', '3', '0'],\n",
       " ['4', '2', '3', '0', '1'],\n",
       " ['4', '3', '0', '1', '2'],\n",
       " ['4', '3', '0', '2', '1'],\n",
       " ['4', '3', '1', '0', '2'],\n",
       " ['4', '3', '1', '2', '0'],\n",
       " ['4', '3', '2', '0', '1']]"
      ]
     },
     "execution_count": 16,
     "metadata": {},
     "output_type": "execute_result"
    }
   ],
   "source": [
    "points=list(population())\n",
    "points"
   ]
  },
  {
   "cell_type": "code",
   "execution_count": 17,
   "metadata": {},
   "outputs": [
    {
     "data": {
      "text/plain": [
       "76"
      ]
     },
     "execution_count": 17,
     "metadata": {},
     "output_type": "execute_result"
    }
   ],
   "source": [
    "len(points)"
   ]
  },
  {
   "cell_type": "code",
   "execution_count": 18,
   "metadata": {},
   "outputs": [
    {
     "data": {
      "text/plain": [
       "8.48528137423857"
      ]
     },
     "execution_count": 18,
     "metadata": {},
     "output_type": "execute_result"
    }
   ],
   "source": [
    "def distance(d):\n",
    "    distance=0\n",
    "    points=d.copy()\n",
    "    for i in range(0,len(points)-1):\n",
    "        p1_ix,p2_ix=cities.index(str(points[i])),cities.index(str(points[i+1]))\n",
    "        loc1,loc2=loc[p1_ix],loc[p2_ix]\n",
    "        distance+=math.sqrt( ((loc1[0]-loc2[0])**2)+((loc1[1]-loc2[1])**2) )\n",
    "        return distance\n",
    "\n",
    "#code testing\n",
    "l=[1, 2, 3, 0, 4]\n",
    "distance(l)        "
   ]
  },
  {
   "cell_type": "code",
   "execution_count": 19,
   "metadata": {},
   "outputs": [],
   "source": [
    "def obj(points:list):\n",
    "    d= points.copy()\n",
    "    return distance(d)"
   ]
  },
  {
   "cell_type": "code",
   "execution_count": 20,
   "metadata": {},
   "outputs": [],
   "source": [
    "#for i in points:\n",
    "#    print(i,distance(i))"
   ]
  },
  {
   "cell_type": "code",
   "execution_count": 21,
   "metadata": {},
   "outputs": [],
   "source": [
    "distance=list(obj(i) for i in points)"
   ]
  },
  {
   "cell_type": "code",
   "execution_count": 22,
   "metadata": {},
   "outputs": [],
   "source": [
    "#distance"
   ]
  },
  {
   "cell_type": "code",
   "execution_count": 23,
   "metadata": {},
   "outputs": [],
   "source": [
    "#creating population from all possible path of size 12\n",
    "counter=0\n",
    "def population1():\n",
    "    population=[]\n",
    "    global counter\n",
    "    start,counter=counter,counter+118\n",
    "    for i in range(start,counter+1):\n",
    "        population.append(all_routes[i])\n",
    "    return population"
   ]
  },
  {
   "cell_type": "code",
   "execution_count": 24,
   "metadata": {},
   "outputs": [
    {
     "data": {
      "text/plain": [
       "['0', '1', '2', '3', '4']"
      ]
     },
     "execution_count": 24,
     "metadata": {},
     "output_type": "execute_result"
    }
   ],
   "source": [
    "cities"
   ]
  },
  {
   "cell_type": "code",
   "execution_count": 25,
   "metadata": {},
   "outputs": [],
   "source": [
    "def rel_fitness(distance):\n",
    "    rel_fitness=[i/sum(distance) for i in distance]\n",
    "    return rel_fitness"
   ]
  },
  {
   "cell_type": "code",
   "execution_count": 26,
   "metadata": {},
   "outputs": [
    {
     "data": {
      "text/plain": [
       "[0.010039790845262195,\n",
       " 0.010039790845262195,\n",
       " 0.010039790845262195,\n",
       " 0.010039790845262195,\n",
       " 0.010039790845262195,\n",
       " 0.016905332765381236,\n",
       " 0.016905332765381236,\n",
       " 0.016905332765381236,\n",
       " 0.009861026564960053,\n",
       " 0.009861026564960053,\n",
       " 0.01481156902363942,\n",
       " 0.01481156902363942,\n",
       " 0.01481156902363942,\n",
       " 0.01481156902363942,\n",
       " 0.01481156902363942,\n",
       " 0.010039790845262195,\n",
       " 0.010039790845262195,\n",
       " 0.010039790845262195,\n",
       " 0.010039790845262195,\n",
       " 0.00924020168839974,\n",
       " 0.00924020168839974,\n",
       " 0.00924020168839974,\n",
       " 0.00924020168839974,\n",
       " 0.013292551046389931,\n",
       " 0.013292551046389931,\n",
       " 0.009861026564960053,\n",
       " 0.009861026564960053,\n",
       " 0.009861026564960053,\n",
       " 0.009861026564960053,\n",
       " 0.009861026564960053,\n",
       " 0.016905332765381236,\n",
       " 0.016905332765381236,\n",
       " 0.016905332765381236,\n",
       " 0.00924020168839974,\n",
       " 0.00924020168839974,\n",
       " 0.00924020168839974,\n",
       " 0.02244965480988634,\n",
       " 0.02244965480988634,\n",
       " 0.018025631312873963,\n",
       " 0.018025631312873963,\n",
       " 0.018025631312873963,\n",
       " 0.018025631312873963,\n",
       " 0.009861026564960053,\n",
       " 0.009861026564960053,\n",
       " 0.009861026564960053,\n",
       " 0.009861026564960053,\n",
       " 0.013292551046389931,\n",
       " 0.013292551046389931,\n",
       " 0.013292551046389931,\n",
       " 0.013292551046389931,\n",
       " 0.013292551046389931,\n",
       " 0.02244965480988634,\n",
       " 0.02244965480988634,\n",
       " 0.02244965480988634,\n",
       " 0.02244965480988634,\n",
       " 0.010039790845262195,\n",
       " 0.010039790845262195,\n",
       " 0.010039790845262195,\n",
       " 0.010039790845262195,\n",
       " 0.01481156902363942,\n",
       " 0.01481156902363942,\n",
       " 0.01481156902363942,\n",
       " 0.01481156902363942,\n",
       " 0.009861026564960053,\n",
       " 0.009861026564960053,\n",
       " 0.009861026564960053,\n",
       " 0.009861026564960053,\n",
       " 0.018025631312873963,\n",
       " 0.018025631312873963,\n",
       " 0.018025631312873963,\n",
       " 0.018025631312873963,\n",
       " 0.010039790845262195,\n",
       " 0.010039790845262195,\n",
       " 0.010039790845262195,\n",
       " 0.010039790845262195,\n",
       " 0.010039790845262195]"
      ]
     },
     "execution_count": 26,
     "metadata": {},
     "output_type": "execute_result"
    }
   ],
   "source": [
    "rel_fitness=rel_fitness(distance)\n",
    "rel_fitness"
   ]
  },
  {
   "cell_type": "code",
   "execution_count": 27,
   "metadata": {},
   "outputs": [
    {
     "data": {
      "text/plain": [
       "(0.00924020168839974, 0.02244965480988634, 0.010039790845262195, 76)"
      ]
     },
     "execution_count": 27,
     "metadata": {},
     "output_type": "execute_result"
    }
   ],
   "source": [
    "min(rel_fitness),max(rel_fitness),np.median(rel_fitness),len(rel_fitness<np.median(rel_fitness))"
   ]
  },
  {
   "cell_type": "code",
   "execution_count": 28,
   "metadata": {},
   "outputs": [],
   "source": [
    "#selection for mating process :- to minimise the distance reject those paths whose distance>median and rest will go for next gen\n",
    "def mating(rel_fitness):\n",
    "    #print(len(rel_fitness))\n",
    "    mating=[]\n",
    "    for i in range(0,len(rel_fitness)):\n",
    "        if rel_fitness[i]<np.median(rel_fitness):mating.append(points[i])#print(i,rel_fitness[i], points[i])\n",
    "    return mating\n",
    "\n",
    "#code testing\n",
    "#mating(rel_fitness)"
   ]
  },
  {
   "cell_type": "code",
   "execution_count": 29,
   "metadata": {},
   "outputs": [
    {
     "data": {
      "text/plain": [
       "22"
      ]
     },
     "execution_count": 29,
     "metadata": {},
     "output_type": "execute_result"
    }
   ],
   "source": [
    "len(mating(rel_fitness))\n",
    "#np.median(rel_fitness)"
   ]
  },
  {
   "cell_type": "code",
   "execution_count": 30,
   "metadata": {},
   "outputs": [],
   "source": [
    "eligable_for_next_gen=mating(rel_fitness)\n",
    "#eligable_for_next_gen"
   ]
  },
  {
   "cell_type": "code",
   "execution_count": 31,
   "metadata": {},
   "outputs": [],
   "source": [
    "#path having lowest distance or relative fitness will directly move into next gen & for rest will go for cross over\n",
    "def nex_gen(eligable_for_next_gen):\n",
    "    direct_move,cross=[],[]\n",
    "    for i in range(0,len(eligable_for_next_gen)-1):\n",
    "        t=eligable_for_next_gen[i]\n",
    "        if distance(t)>min(distance):cross.append(t)\n",
    "        else: direct_move.append(eligable_for_next_gen[i])\n",
    "            \n",
    "    #going to use single point crossover\n",
    "    #check for number of crossover\n",
    "    num_cross=np.floor(len(cross)/2)\n",
    "    #crossover point generation\n",
    "    cross_point=[]\n",
    "    for i in range(0,len(cross)):\n",
    "        cross.append(random.randint(1,num_city))\n",
    "    #swapping the elements\n",
    "    for i in range(0,len(cross)-1):\n",
    "        temp=cross[i][:cross_point[i]]\n",
    "        cross[i][:cross_point[i]]=cross[i+1][:cross_point[i]]\n",
    "        cross[i+1][:cross_point[i]]=temp\n",
    "        \n",
    "    #Final list of path of new gen\n",
    "    new_gen_path=direct_move+cross\n",
    "    \n",
    "    return new_gen_path"
   ]
  },
  {
   "cell_type": "code",
   "execution_count": 32,
   "metadata": {},
   "outputs": [
    {
     "ename": "TypeError",
     "evalue": "'list' object is not callable",
     "output_type": "error",
     "traceback": [
      "\u001b[1;31m---------------------------------------------------------------------------\u001b[0m",
      "\u001b[1;31mTypeError\u001b[0m                                 Traceback (most recent call last)",
      "\u001b[1;32m<ipython-input-32-6c12534a924c>\u001b[0m in \u001b[0;36m<module>\u001b[1;34m\u001b[0m\n\u001b[1;32m----> 1\u001b[1;33m \u001b[0mnex_gen\u001b[0m\u001b[1;33m(\u001b[0m\u001b[0meligable_for_next_gen\u001b[0m\u001b[1;33m)\u001b[0m\u001b[1;33m\u001b[0m\u001b[1;33m\u001b[0m\u001b[0m\n\u001b[0m",
      "\u001b[1;32m<ipython-input-31-e91571e20bed>\u001b[0m in \u001b[0;36mnex_gen\u001b[1;34m(eligable_for_next_gen)\u001b[0m\n\u001b[0;32m      4\u001b[0m     \u001b[1;32mfor\u001b[0m \u001b[0mi\u001b[0m \u001b[1;32min\u001b[0m \u001b[0mrange\u001b[0m\u001b[1;33m(\u001b[0m\u001b[1;36m0\u001b[0m\u001b[1;33m,\u001b[0m\u001b[0mlen\u001b[0m\u001b[1;33m(\u001b[0m\u001b[0meligable_for_next_gen\u001b[0m\u001b[1;33m)\u001b[0m\u001b[1;33m-\u001b[0m\u001b[1;36m1\u001b[0m\u001b[1;33m)\u001b[0m\u001b[1;33m:\u001b[0m\u001b[1;33m\u001b[0m\u001b[1;33m\u001b[0m\u001b[0m\n\u001b[0;32m      5\u001b[0m         \u001b[0mt\u001b[0m\u001b[1;33m=\u001b[0m\u001b[0meligable_for_next_gen\u001b[0m\u001b[1;33m[\u001b[0m\u001b[0mi\u001b[0m\u001b[1;33m]\u001b[0m\u001b[1;33m\u001b[0m\u001b[1;33m\u001b[0m\u001b[0m\n\u001b[1;32m----> 6\u001b[1;33m         \u001b[1;32mif\u001b[0m \u001b[0mdistance\u001b[0m\u001b[1;33m(\u001b[0m\u001b[0mt\u001b[0m\u001b[1;33m)\u001b[0m\u001b[1;33m>\u001b[0m\u001b[0mmin\u001b[0m\u001b[1;33m(\u001b[0m\u001b[0mdistance\u001b[0m\u001b[1;33m)\u001b[0m\u001b[1;33m:\u001b[0m\u001b[0mcross\u001b[0m\u001b[1;33m.\u001b[0m\u001b[0mappend\u001b[0m\u001b[1;33m(\u001b[0m\u001b[0mt\u001b[0m\u001b[1;33m)\u001b[0m\u001b[1;33m\u001b[0m\u001b[1;33m\u001b[0m\u001b[0m\n\u001b[0m\u001b[0;32m      7\u001b[0m         \u001b[1;32melse\u001b[0m\u001b[1;33m:\u001b[0m \u001b[0mdirect_move\u001b[0m\u001b[1;33m.\u001b[0m\u001b[0mappend\u001b[0m\u001b[1;33m(\u001b[0m\u001b[0meligable_for_next_gen\u001b[0m\u001b[1;33m[\u001b[0m\u001b[0mi\u001b[0m\u001b[1;33m]\u001b[0m\u001b[1;33m)\u001b[0m\u001b[1;33m\u001b[0m\u001b[1;33m\u001b[0m\u001b[0m\n\u001b[0;32m      8\u001b[0m \u001b[1;33m\u001b[0m\u001b[0m\n",
      "\u001b[1;31mTypeError\u001b[0m: 'list' object is not callable"
     ]
    }
   ],
   "source": [
    "nex_gen(eligable_for_next_gen)"
   ]
  },
  {
   "cell_type": "code",
   "execution_count": 51,
   "metadata": {},
   "outputs": [],
   "source": [
    "def nex_gen(eligable_for_next_gen):\n",
    "    direct_move,cross=[],[]\n",
    "    t=eligable_for_next_gen.copy()\n",
    "    for i in range(0,len(t)-1):\n",
    "        print(t[i],type(t[i]))\n",
    "        l=t[i]\n",
    "        if distance(l)>0: print(l)"
   ]
  },
  {
   "cell_type": "code",
   "execution_count": 52,
   "metadata": {},
   "outputs": [
    {
     "name": "stdout",
     "output_type": "stream",
     "text": [
      "['0', '3', '4', '1', '2'] <class 'list'>\n"
     ]
    },
    {
     "ename": "TypeError",
     "evalue": "'list' object is not callable",
     "output_type": "error",
     "traceback": [
      "\u001b[1;31m---------------------------------------------------------------------------\u001b[0m",
      "\u001b[1;31mTypeError\u001b[0m                                 Traceback (most recent call last)",
      "\u001b[1;32m<ipython-input-52-6c12534a924c>\u001b[0m in \u001b[0;36m<module>\u001b[1;34m\u001b[0m\n\u001b[1;32m----> 1\u001b[1;33m \u001b[0mnex_gen\u001b[0m\u001b[1;33m(\u001b[0m\u001b[0meligable_for_next_gen\u001b[0m\u001b[1;33m)\u001b[0m\u001b[1;33m\u001b[0m\u001b[1;33m\u001b[0m\u001b[0m\n\u001b[0m",
      "\u001b[1;32m<ipython-input-51-37c68b74bbee>\u001b[0m in \u001b[0;36mnex_gen\u001b[1;34m(eligable_for_next_gen)\u001b[0m\n\u001b[0;32m      5\u001b[0m         \u001b[0mprint\u001b[0m\u001b[1;33m(\u001b[0m\u001b[0mt\u001b[0m\u001b[1;33m[\u001b[0m\u001b[0mi\u001b[0m\u001b[1;33m]\u001b[0m\u001b[1;33m,\u001b[0m\u001b[0mtype\u001b[0m\u001b[1;33m(\u001b[0m\u001b[0mt\u001b[0m\u001b[1;33m[\u001b[0m\u001b[0mi\u001b[0m\u001b[1;33m]\u001b[0m\u001b[1;33m)\u001b[0m\u001b[1;33m)\u001b[0m\u001b[1;33m\u001b[0m\u001b[1;33m\u001b[0m\u001b[0m\n\u001b[0;32m      6\u001b[0m         \u001b[0ml\u001b[0m\u001b[1;33m=\u001b[0m\u001b[0mt\u001b[0m\u001b[1;33m[\u001b[0m\u001b[0mi\u001b[0m\u001b[1;33m]\u001b[0m\u001b[1;33m\u001b[0m\u001b[1;33m\u001b[0m\u001b[0m\n\u001b[1;32m----> 7\u001b[1;33m         \u001b[1;32mif\u001b[0m \u001b[0mdistance\u001b[0m\u001b[1;33m(\u001b[0m\u001b[0ml\u001b[0m\u001b[1;33m)\u001b[0m\u001b[1;33m>\u001b[0m\u001b[1;36m0\u001b[0m\u001b[1;33m:\u001b[0m \u001b[0mprint\u001b[0m\u001b[1;33m(\u001b[0m\u001b[0ml\u001b[0m\u001b[1;33m)\u001b[0m\u001b[1;33m\u001b[0m\u001b[1;33m\u001b[0m\u001b[0m\n\u001b[0m",
      "\u001b[1;31mTypeError\u001b[0m: 'list' object is not callable"
     ]
    }
   ],
   "source": [
    "nex_gen(eligable_for_next_gen)"
   ]
  },
  {
   "cell_type": "code",
   "execution_count": null,
   "metadata": {},
   "outputs": [],
   "source": [
    "l"
   ]
  },
  {
   "cell_type": "code",
   "execution_count": null,
   "metadata": {},
   "outputs": [],
   "source": []
  },
  {
   "cell_type": "code",
   "execution_count": null,
   "metadata": {},
   "outputs": [],
   "source": []
  }
 ],
 "metadata": {
  "kernelspec": {
   "display_name": "Python 3",
   "language": "python",
   "name": "python3"
  },
  "language_info": {
   "codemirror_mode": {
    "name": "ipython",
    "version": 3
   },
   "file_extension": ".py",
   "mimetype": "text/x-python",
   "name": "python",
   "nbconvert_exporter": "python",
   "pygments_lexer": "ipython3",
   "version": "3.6.8"
  }
 },
 "nbformat": 4,
 "nbformat_minor": 2
}
