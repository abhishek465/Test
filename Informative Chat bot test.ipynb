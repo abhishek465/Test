{
 "cells": [
  {
   "cell_type": "code",
   "execution_count": 1,
   "metadata": {},
   "outputs": [],
   "source": [
    "import nltk\n",
    "import numpy as np\n",
    "import random\n",
    "import string \n",
    "from nltk.corpus import stopwords"
   ]
  },
  {
   "cell_type": "code",
   "execution_count": 2,
   "metadata": {},
   "outputs": [],
   "source": [
    "lemmer = nltk.stem.WordNetLemmatizer()\n",
    "#WordNet is a semantically-oriented dictionary of English included in NLTK.\n",
    "def LemTokens(tokens):\n",
    "    return [lemmer.lemmatize(token) for token in tokens]\n",
    "remove_punct_dict = dict((ord(punct), None) for punct in string.punctuation)\n",
    "def LemNormalize(text):\n",
    "    return LemTokens(nltk.word_tokenize(text.lower().translate(remove_punct_dict)))"
   ]
  },
  {
   "cell_type": "code",
   "execution_count": 3,
   "metadata": {},
   "outputs": [],
   "source": [
    "GREETING_INPUTS = (\"hello\", \"hi\", \"greetings\", \"sup\", \"what's up\",\"hey\",)\n",
    "GREETING_RESPONSES = [\"hi\", \"hey\", \"*nods*\", \"hi there\", \"hello\", \"I am glad! You are talking to me\"]\n",
    "def greeting(sentence):\n",
    " \n",
    "    for word in sentence.split():\n",
    "        if word.lower() in GREETING_INPUTS:\n",
    "            return random.choice(GREETING_RESPONSES)"
   ]
  },
  {
   "cell_type": "code",
   "execution_count": 10,
   "metadata": {},
   "outputs": [],
   "source": [
    "res = [\"Here are something\", \"These are the available option\",\"Alright,out of\",\"Great\"]\n",
    "kw=[\"option\",\"insurance\",\"type\"]\n",
    "top_option=[\"Life & Health\",\"Property & Casuality\",\"Motor Insurance\",\"Marine and Aviation\",\"Takaful Insurance\"]\n",
    "\n",
    "LH=[\"Group Life & Medical\",\"Individual Life & Medical\"]\n",
    "\n",
    "GLMI=[\"Group Term Life\",\"Group Medical\",\"Gulf Elite System\",\"Gulf Med System\"]\n",
    "glmi_dict={0:\"http://www.gulfins.com.kw/group-term-life-insurance.html\",\n",
    "          1:\"http://www.gulfins.com.kw/group-medical-insurance.html\",\n",
    "          2:\"http://www.gulfins.com.kw/gulf-elite-system.html\",\n",
    "          3:\"http://www.gulfins.com.kw/gulf-med-system.html\"}\n",
    "\n",
    "PC=[\"Engineering\",\"Property\",\"Liabilities\",\"General Accident\",\"Travel Assistance\"]\n",
    "MI=[\"Orange Card Cover\",\"Third Party Liability Cover\",\"Gold Car Policy\",\"Gap\",\"Auto Assist Endorsement\",\n",
    "    \"Travel Assistance\",\"Insurance Policy\"]\n",
    "MA=[\"Marina Cargo Insurance\",\"Marine Hull Insurance\",\"Aviation Insurance\",\"liability Insurance\",\"Marine Services\"]\n",
    "TI=[\"Group Takaful\",\"Group Travel\",\"Medical\",\"Property & Casualty\",\"Motor\",\"Marine\"]\n",
    "\n",
    "def response(user_response):\n",
    "    word_tokens=nltk.word_tokenize(user_response)\n",
    "    stop_words = set(stopwords.words('english'))\n",
    "    filtered_word = [w.lower() for w in word_tokens if not w in stop_words ]\n",
    "    #print(filtered_word)\n",
    "    if list(set(word_tokens) & set(kw)):\n",
    "        return random.choice(res)+\":- \\n \"+ \"\\n \".join(str(x) for x in top_option) + \"\\n\"+\"which option you like to opt?\"\n",
    "    \n",
    "    if user_response.lower() in top_option[0].lower():\n",
    "        return random.choice(res)+\":- \\n \"+ \"\\n \".join(str(x) for x in LH) + \"\\n\"+\"which one you prefer?\"\n",
    "    \n",
    "    if user_response.lower() == LH[0].lower():\n",
    "        return random.choice(res)+\":- \\n \"+ \"\\n \".join(str(x) for x in GLMI) + \"\\n\"+\"which one you prefer?\"\n",
    "    if user_response.lower() == LH[1].lower():\n",
    "        return LH[1]\n",
    "    t=[x.lower() for x in GLMI]\n",
    "    if user_response.lower() in t:\n",
    "        idx=t.index(user_response.lower())\n",
    "        return glmi_dict[idx]\n",
    "    \n",
    "    "
   ]
  },
  {
   "cell_type": "code",
   "execution_count": 11,
   "metadata": {},
   "outputs": [
    {
     "name": "stdout",
     "output_type": "stream",
     "text": [
      "ROBO: My name is Robo. I will answer your queries about Chatbots. If you want to exit, type Bye!\n",
      "option\n",
      "ROBO: Here are something:- \n",
      " Life & Health\n",
      " Property & Casuality\n",
      " Motor Insurance\n",
      " Marine and Aviation\n",
      " Takaful Insurance\n",
      "which option you like to opt?\n",
      "life & health\n",
      "ROBO: Here are something:- \n",
      " Group Life & Medical\n",
      " Individual Life & Medical\n",
      "which one you prefer?\n",
      "Group Life & Medical\n",
      "ROBO: These are the available option:- \n",
      " Group Term Life\n",
      " Group Medical\n",
      " Gulf Elite System\n",
      " Gulf Med System\n",
      "which one you prefer?\n",
      "Group Term Life\n",
      "ROBO: http://www.gulfins.com.kw/group-term-life-insurance.html\n",
      "exit\n",
      "ROBO: None\n",
      "bye\n",
      "ROBO: Bye! take care..\n"
     ]
    }
   ],
   "source": [
    "flag=True\n",
    "print(\"ROBO: My name is Robo. I will answer your queries. If you want to exit, type Bye!\")\n",
    "state=[]\n",
    "while(flag==True):\n",
    "    user_response = input()\n",
    "    user_response=user_response.lower()\n",
    "    if(user_response!='bye'):\n",
    "        if(user_response=='thanks' or user_response=='thank you' ):\n",
    "            flag=False\n",
    "            print(\"ROBO: You are welcome..\")\n",
    "        else:\n",
    "            if(greeting(user_response)!=None):\n",
    "                print(\"ROBO: \"+greeting(user_response))\n",
    "            else:\n",
    "                print(\"ROBO: \",end=\"\")\n",
    "                print(response(user_response))\n",
    "                state.append(user_response)\n",
    "    else:\n",
    "        flag=False\n",
    "        print(\"ROBO: Bye! take care..\")"
   ]
  },
  {
   "cell_type": "code",
   "execution_count": 12,
   "metadata": {},
   "outputs": [
    {
     "data": {
      "text/plain": [
       "['option', 'life & health', 'group life & medical', 'group term life', 'exit']"
      ]
     },
     "execution_count": 12,
     "metadata": {},
     "output_type": "execute_result"
    }
   ],
   "source": [
    "state"
   ]
  },
  {
   "cell_type": "code",
   "execution_count": null,
   "metadata": {},
   "outputs": [],
   "source": []
  }
 ],
 "metadata": {
  "kernelspec": {
   "display_name": "Python 3",
   "language": "python",
   "name": "python3"
  },
  "language_info": {
   "codemirror_mode": {
    "name": "ipython",
    "version": 3
   },
   "file_extension": ".py",
   "mimetype": "text/x-python",
   "name": "python",
   "nbconvert_exporter": "python",
   "pygments_lexer": "ipython3",
   "version": "3.6.8"
  }
 },
 "nbformat": 4,
 "nbformat_minor": 2
}
